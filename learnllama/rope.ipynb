{
 "cells": [
  {
   "cell_type": "code",
   "execution_count": 1,
   "metadata": {},
   "outputs": [],
   "source": [
    "import numpy as np\n",
    "import matplotlib.pyplot as plt\n",
    "import torch\n",
    "from torch import nn\n",
    "from typing import Tuple"
   ]
  },
  {
   "cell_type": "markdown",
   "metadata": {},
   "source": [
    "## CIS编码\n",
    "\n",
    " $$ f(q, m) = qe^{im\\theta}$$\n",
    " $$ f(q, m) =  \\begin{pmatrix}\n",
    "  \\cos(m\\theta) & -\\sin(m\\theta) \\\\\n",
    "  \\sin(m\\theta) & \\cos(m\\theta)\n",
    " \\end{pmatrix} \\begin{pmatrix} q^0 \\\\ q^1 \\end{pmatrix}$$ \n",
    " $$ R(\\alpha)R(\\beta) = R(\\alpha+\\beta) $$\n",
    " $$ R^T(\\alpha)R(\\beta) =\\begin{pmatrix}\n",
    "  \\cos(\\alpha) & \\sin(\\alpha) \\\\\n",
    "  -\\sin(\\alpha) & \\cos(\\alpha)\n",
    " \\end{pmatrix} \\begin{pmatrix}\n",
    "  \\cos(\\beta) & -\\sin(\\beta) \\\\\n",
    "  \\sin(\\beta) & \\cos(\\beta)\n",
    " \\end{pmatrix} \n",
    "  \\\\ = R(-\\alpha)R(\\beta) \\\\ = R(\\beta-\\alpha)$$\n",
    "  \n"
   ]
  },
  {
   "cell_type": "code",
   "execution_count": 16,
   "metadata": {},
   "outputs": [
    {
     "data": {
      "text/plain": [
       "(tensor([[-0.2747,  0.7961],\n",
       "         [-0.0549, -0.9413]]),\n",
       " tensor([[-0.2747, -0.0549],\n",
       "         [ 0.7961, -0.9413]]))"
      ]
     },
     "execution_count": 16,
     "metadata": {},
     "output_type": "execute_result"
    }
   ],
   "source": [
    "x = torch.randn(2,3)\n",
    "y = torch.randn(3,2)\n",
    "torch.matmul(x,y), torch.transpose(torch.matmul(x,y), 0, 1)\n"
   ]
  },
  {
   "cell_type": "code",
   "execution_count": 21,
   "metadata": {},
   "outputs": [
    {
     "name": "stdout",
     "output_type": "stream",
     "text": [
      "tensor([[-0.1203, -0.2416,  0.2817],\n",
      "        [ 0.4160,  0.5174,  0.0102]])\n",
      "tensor([[-0.1203, -0.2416,  0.2817],\n",
      "        [ 0.4160,  0.5174,  0.0102]])\n"
     ]
    },
    {
     "data": {
      "text/plain": [
       "tensor([[-0.2747, -0.0549],\n",
       "        [ 0.7961, -0.9413]])"
      ]
     },
     "execution_count": 21,
     "metadata": {},
     "output_type": "execute_result"
    }
   ],
   "source": [
    "print(y.T)\n",
    "print(torch.transpose(y,0,1))\n",
    "torch.matmul(y.T, x.T, )"
   ]
  },
  {
   "cell_type": "markdown",
   "metadata": {},
   "source": [
    "$$ (R_mq)^T = q^T R_m^T$$"
   ]
  },
  {
   "cell_type": "code",
   "execution_count": 11,
   "metadata": {},
   "outputs": [],
   "source": [
    "def R(theta):\n",
    "    theta = np.radians(theta)\n",
    "    c, s = np.cos(theta), np.sin(theta)\n",
    "    return np.array([[c, -s], [s, c]])"
   ]
  },
  {
   "cell_type": "code",
   "execution_count": 19,
   "metadata": {},
   "outputs": [
    {
     "name": "stdout",
     "output_type": "stream",
     "text": [
      "[[ 0.8660254 -0.5      ]\n",
      " [ 0.5        0.8660254]]\n",
      "[[ 0.8660254 -0.5      ]\n",
      " [ 0.5        0.8660254]]\n"
     ]
    }
   ],
   "source": [
    "R1 = R(30)\n",
    "R2 = R(60)\n",
    "print(R1.T.dot(R2))\n",
    "print(R(60-30))"
   ]
  },
  {
   "cell_type": "markdown",
   "metadata": {},
   "source": [
    "## apply_rotary_emb\n",
    "\n",
    "| **model** | **heads** | **layers** | **dim** | **head_dim** |\n",
    "|-----------|-----------|------------|---------|--------------|\n",
    "| 7b        | 32        | 32         | 4096    | 4096/32      |\n",
    "| 13b       | 40        | 40         | 5120    | 5120/40      |\n",
    "| 70b       | 64        | 80         | 8192    | 8192/64      |\n",
    "\n",
    "- position encoding 直接作用于 q(query) 与 k(key)\n",
    "    - `q = wq(x)`\n",
    "    - `k = wk(x)`\n",
    "- 是一种乘性，而非 sin position encoding 的加性；\n",
    "    - BERT（Transformer库）的 position encoding 也是加性的；"
   ]
  },
  {
   "cell_type": "markdown",
   "metadata": {},
   "source": [
    "## 远程（$m-n$）衰减性\n",
    "\n",
    "- Transformer升级之路：2、博采众长的旋转式位置编码\n",
    "    - https://spaces.ac.cn/archives/8265/comment-page-1\n",
    "\n",
    "$$\n",
    "\\begin{split}\n",
    "&S_j=\\sum_{i=0}^{j-1}\\exp(i(m-n)\\theta_i)\\\\\n",
    "&\\theta_i=10000^{-2i/d}\n",
    "\\end{split}\n",
    "$$"
   ]
  },
  {
   "cell_type": "code",
   "execution_count": 22,
   "metadata": {},
   "outputs": [],
   "source": [
    "def apply_rotary_emb(\n",
    "    xq: torch.Tensor,\n",
    "    xk: torch.Tensor,\n",
    "    freqs_cis: torch.Tensor,\n",
    ") -> Tuple[torch.Tensor, torch.Tensor]:\n",
    "    \n",
    "    # [1, 8, 32, 128] => [1, 8, 32, 64] (*2)\n",
    "    xq_ = torch.view_as_complex(xq.float().reshape(*xq.shape[:-1], -1, 2))\n",
    "    # [1, 8, 32, 128] => [1, 8, 32, 64] (*2)\n",
    "    xk_ = torch.view_as_complex(xk.float().reshape(*xk.shape[:-1], -1, 2))\n",
    "    \n",
    "    # [8, 64] => [1, 8, 1, 64]\n",
    "    freqs_cis = reshape_for_broadcast(freqs_cis, xq_)\n",
    "    \n",
    "    # (xq_ * freqs_cis).shape == [1, 8, 32, 64]\n",
    "    # torch.view_as_real(xq_ * freqs_cis).shape == [1, 8, 32, 64, 2]\n",
    "    # flatten(3) == [1, 8, 32, 128]\n",
    "    xq_out = torch.view_as_real(xq_ * freqs_cis).flatten(3)\n",
    "    \n",
    "    # xq_out == [1, 8, 32, 128]\n",
    "    xk_out = torch.view_as_real(xk_ * freqs_cis).flatten(3)\n",
    "    return xq_out.type_as(xq), xk_out.type_as(xk)"
   ]
  },
  {
   "cell_type": "code",
   "execution_count": 23,
   "metadata": {},
   "outputs": [],
   "source": [
    "def s(m, d=128):\n",
    "    theta_i = lambda i: 10000**(-2*i/d)\n",
    "    return np.sum([np.abs(np.sum(np.exp(1j*m*theta_i(np.arange(0, j))))) for j in range(0, d//2)])"
   ]
  },
  {
   "cell_type": "code",
   "execution_count": 24,
   "metadata": {},
   "outputs": [],
   "source": [
    "d = 128\n",
    "xs = np.arange(256)\n",
    "ys = [s(x)/(d//2) for x in xs]"
   ]
  },
  {
   "cell_type": "code",
   "execution_count": 25,
   "metadata": {},
   "outputs": [
    {
     "data": {
      "text/plain": [
       "[<matplotlib.lines.Line2D at 0x1428d1000>]"
      ]
     },
     "execution_count": 25,
     "metadata": {},
     "output_type": "execute_result"
    },
    {
     "data": {
      "image/png": "[encoded data removed]",
      "text/plain": [
       "<Figure size 640x480 with 1 Axes>"
      ]
     },
     "metadata": {},
     "output_type": "display_data"
    }
   ],
   "source": [
    "plt.plot(xs, ys)"
   ]
  },
  {
   "cell_type": "code",
   "execution_count": null,
   "metadata": {},
   "outputs": [],
   "source": []
  }
 ],
 "metadata": {
  "kernelspec": {
   "display_name": "rl",
   "language": "python",
   "name": "python3"
  },
  "language_info": {
   "codemirror_mode": {
    "name": "ipython",
    "version": 3
   },
   "file_extension": ".py",
   "mimetype": "text/x-python",
   "name": "python",
   "nbconvert_exporter": "python",
   "pygments_lexer": "ipython3",
   "version": "3.10.14"
  }
 },
 "nbformat": 4,
 "nbformat_minor": 2
}
