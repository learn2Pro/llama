{
 "cells": [
  {
   "cell_type": "code",
   "execution_count": 1,
   "metadata": {},
   "outputs": [],
   "source": [
    "from IPython.display import Image"
   ]
  },
  {
   "cell_type": "markdown",
   "metadata": {},
   "source": [
    "## basics\n",
    " - 源码地址：https://github.com/facebookresearch/llama.git\n",
    " - 默认 main 分支为 llama2\n",
    " - llama_v1 分支为 llama1\n",
    " - weights 申请地址（非常容易）：\n",
    "    https://ai.meta.com/resources/models-and-libraries/llama-downloads/\n",
    "\n",
    "## 参数\n",
    " - 7B\n",
    " - dim: 4096\n",
    " - multiple_of: 256 (SwiGLU)\n",
    " - n_layers: 32\n",
    " - n_heads: 32\n",
    " - 4096 / 32 == 2^12/2^5 == 2^7 == 128\n",
    " - self.head_dim = args.dim // args.n_heads"
   ]
  },
  {
   "cell_type": "code",
   "execution_count": null,
   "metadata": {},
   "outputs": [],
   "source": []
  }
 ],
 "metadata": {
  "kernelspec": {
   "display_name": "rl",
   "language": "python",
   "name": "python3"
  },
  "language_info": {
   "codemirror_mode": {
    "name": "ipython",
    "version": 3
   },
   "file_extension": ".py",
   "mimetype": "text/x-python",
   "name": "python",
   "nbconvert_exporter": "python",
   "pygments_lexer": "ipython3",
   "version": "3.10.14"
  }
 },
 "nbformat": 4,
 "nbformat_minor": 2
}
